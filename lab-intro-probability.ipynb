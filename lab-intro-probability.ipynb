{
 "cells": [
  {
   "cell_type": "markdown",
   "metadata": {},
   "source": [
    "# Lab | Intro to Probability"
   ]
  },
  {
   "cell_type": "markdown",
   "metadata": {},
   "source": [
    "**Objective**\n",
    "\n",
    "Welcome to this Intro to Probability lab, where we explore decision-making scenarios through the lens of probability and strategic analysis. In the business world, making informed decisions is crucial, especially when faced with uncertainties. This lab focuses on scenarios where probabilistic outcomes play a significant role in shaping strategies and outcomes. Students will engage in exercises that require assessing and choosing optimal paths based on data-driven insights. The goal is to enhance your skills by applying probability concepts to solve real-world problems."
   ]
  },
  {
   "cell_type": "markdown",
   "metadata": {},
   "source": [
    "**Challenge 1**"
   ]
  },
  {
   "cell_type": "markdown",
   "metadata": {},
   "source": [
    "#### Ironhack Airlines \n",
    "\n",
    "Often Airlines sell more tickets than they have seats available, this is called overbooking. Consider the following:\n",
    "- A plane has 450 seats. \n",
    "- Based on historical data we conclude that each individual passenger has a 3% chance of missing it's flight. \n",
    "\n",
    "If the Ironhack Airlines routinely sells 460 tickets, what is the chance that they have a seats for all passenger?"
   ]
  },
  {
   "cell_type": "code",
   "execution_count": 2,
   "metadata": {},
   "outputs": [
    {
     "name": "stdout",
     "output_type": "stream",
     "text": [
      "Probability that 450 or fewer passengers show up: 0.8845 (or 88.45%)\n"
     ]
    }
   ],
   "source": [
    "from scipy.stats import binom\n",
    "\n",
    "# Given values\n",
    "n = 460  # Total tickets sold\n",
    "p = 0.97  # Probability of a passenger showing up\n",
    "k = 450  # Total available seats\n",
    "\n",
    "# Compute the probability P(X <= 450)\n",
    "probability = binom.cdf(k, n, p)\n",
    "\n",
    "print(f\"Probability that 450 or fewer passengers show up: {probability:.4f} (or {probability * 100:.2f}%)\")\n"
   ]
  },
  {
   "cell_type": "markdown",
   "metadata": {},
   "source": [
    "**Challenge 2**"
   ]
  },
  {
   "cell_type": "markdown",
   "metadata": {},
   "source": [
    "#### Ironhack Call Center "
   ]
  },
  {
   "cell_type": "markdown",
   "metadata": {},
   "source": [
    "Suppose a customer service representative at a call center is handling customer complaints. Consider the following:\n",
    "- The probability of successfully resolving a customer complaint on the first attempt is 0.3. \n",
    "\n",
    "\n",
    "What is the probability that the representative needs to make at least three attempts before successfully resolving a customer complaint?"
   ]
  },
  {
   "cell_type": "code",
   "execution_count": 3,
   "metadata": {},
   "outputs": [
    {
     "name": "stdout",
     "output_type": "stream",
     "text": [
      "Probability of needing at least 3 attempts: 0.4900\n"
     ]
    }
   ],
   "source": [
    "# Probability of resolving on first attempt\n",
    "p = 0.3\n",
    "\n",
    "# Probability of failing the first two attempts\n",
    "P_X_1 = p  # Success on first attempt\n",
    "P_X_2 = (1 - p) * p  # Fails first, success on second\n",
    "\n",
    "# Probability of needing at least 3 attempts\n",
    "P_X_ge_3 = 1 - (P_X_1 + P_X_2)\n",
    "\n",
    "print(f\"Probability of needing at least 3 attempts: {P_X_ge_3:.4f}\")\n"
   ]
  },
  {
   "cell_type": "markdown",
   "metadata": {},
   "source": [
    "**Challenge 3**"
   ]
  },
  {
   "cell_type": "markdown",
   "metadata": {},
   "source": [
    "#### Ironhack Website"
   ]
  },
  {
   "cell_type": "markdown",
   "metadata": {},
   "source": [
    "Consider a scenario related to Ironhack website traffic. Where:\n",
    "- our website takes on average 500 visits per hour.\n",
    "- the website's server is designed to handle up to 550 vists per hour.\n",
    "\n",
    "\n",
    "What is the probability of the website server being overwhelmed?"
   ]
  },
  {
   "cell_type": "code",
   "execution_count": 4,
   "metadata": {},
   "outputs": [
    {
     "data": {
      "text/plain": [
       "np.float64(0.01289822084039205)"
      ]
     },
     "execution_count": 4,
     "metadata": {},
     "output_type": "execute_result"
    }
   ],
   "source": [
    "import scipy.stats as stats\n",
    "\n",
    "# Given values\n",
    "lambda_visits = 500  # average visits per hour\n",
    "threshold_visits = 550  # threshold for overwhelmed server\n",
    "\n",
    "# Cumulative probability P(X <= 550)\n",
    "prob_less_equal_550 = stats.poisson.cdf(threshold_visits, lambda_visits)\n",
    "\n",
    "# Probability of the server being overwhelmed (P(X > 550))\n",
    "prob_overwhelmed = 1 - prob_less_equal_550\n",
    "prob_overwhelmed\n"
   ]
  },
  {
   "cell_type": "markdown",
   "metadata": {},
   "source": [
    "What is the probability of being overwhelmed at some point during a day? (consider 24hours)"
   ]
  },
  {
   "cell_type": "code",
   "execution_count": 6,
   "metadata": {},
   "outputs": [
    {
     "data": {
      "text/plain": [
       "np.float64(0.2677043869515715)"
      ]
     },
     "execution_count": 6,
     "metadata": {},
     "output_type": "execute_result"
    }
   ],
   "source": [
    "# Given values\n",
    "hours_in_day = 24  # number of hours in a day\n",
    "\n",
    "# Probability of being overwhelmed in one hour (P(X > 550) for Poisson distribution)\n",
    "prob_overwhelmed_in_one_hour = 1 - stats.poisson.cdf(550, lambda_visits)\n",
    "\n",
    "# Probability of not being overwhelmed in one hour\n",
    "prob_not_overwhelmed_in_one_hour = 1 - prob_overwhelmed_in_one_hour\n",
    "\n",
    "# Probability of not being overwhelmed in all 24 hours\n",
    "prob_not_overwhelmed_in_24_hours = prob_not_overwhelmed_in_one_hour ** hours_in_day\n",
    "\n",
    "# Probability of being overwhelmed at least once in 24 hours\n",
    "prob_overwhelmed_at_least_once = 1 - prob_not_overwhelmed_in_24_hours\n",
    "prob_overwhelmed_at_least_once\n"
   ]
  },
  {
   "cell_type": "markdown",
   "metadata": {},
   "source": [
    "**Challenge 4**"
   ]
  },
  {
   "cell_type": "markdown",
   "metadata": {},
   "source": [
    "#### Ironhack Helpdesk"
   ]
  },
  {
   "cell_type": "markdown",
   "metadata": {},
   "source": [
    "Consider a scenario related to the time between arrivals of customers at a service desk.\n",
    "\n",
    "On average, a customers arrives every 10minutes.\n",
    "\n",
    "What is the probability that the next customer will arrive within the next 5 minutes?"
   ]
  },
  {
   "cell_type": "code",
   "execution_count": 5,
   "metadata": {},
   "outputs": [
    {
     "data": {
      "text/plain": [
       "0.39346913629508384"
      ]
     },
     "execution_count": 5,
     "metadata": {},
     "output_type": "execute_result"
    }
   ],
   "source": [
    "# Given values\n",
    "mean_time_between_arrivals = 10  # mean time between customer arrivals in minutes\n",
    "lambda_customer_arrival = 1 / mean_time_between_arrivals  # rate parameter (1/mean)\n",
    "\n",
    "# Time interval of interest (next 5 minutes)\n",
    "time_interval = 5\n",
    "\n",
    "# Calculate the probability that the next customer arrives within the next 5 minutes\n",
    "prob_arrival_within_5_minutes = 1 - (2.71828 ** (-lambda_customer_arrival * time_interval))\n",
    "prob_arrival_within_5_minutes\n"
   ]
  },
  {
   "cell_type": "markdown",
   "metadata": {},
   "source": [
    "If there is no customer for 15minutes, employees can that a 5minutes break.\n",
    "\n",
    "What is the probability an employee taking a break?"
   ]
  },
  {
   "cell_type": "code",
   "execution_count": 9,
   "metadata": {},
   "outputs": [
    {
     "name": "stdout",
     "output_type": "stream",
     "text": [
      "Prob: 0.2231\n",
      "Invalid rate detected\n",
      "Prob: 0.0000\n"
     ]
    }
   ],
   "source": [
    "import math\n",
    "\n",
    "def break_probability(rate):\n",
    "    \"\"\"Calculates break probability (no customers in 15 mins).\"\"\"\n",
    "    if rate < 0: return None\n",
    "    return math.exp(-rate * 15)\n",
    "\n",
    "# Example:\n",
    "rate = 0.1\n",
    "prob = break_probability(rate)\n",
    "if prob is not None:\n",
    "    print(f\"Prob: {prob:.4f}\")\n",
    "else:\n",
    "    print(\"Invalid rate\")\n",
    "\n",
    "rate = -0.1\n",
    "prob = break_probability(rate)\n",
    "if prob is not None:\n",
    "    print(\"This should not print\")\n",
    "else:\n",
    "    print(\"Invalid rate detected\")\n",
    "\n",
    "rate = 1\n",
    "prob = break_probability(rate)\n",
    "if prob is not None:\n",
    "    print(f\"Prob: {prob:.4f}\")\n"
   ]
  },
  {
   "cell_type": "markdown",
   "metadata": {},
   "source": [
    "**Challenge 5**"
   ]
  },
  {
   "cell_type": "markdown",
   "metadata": {},
   "source": [
    "The weights of a certain species of birds follow a normal distribution with a mean weight of 150 grams and a standard deviation of 10 grams. \n",
    "\n",
    "- If we randomly select a bird, what is the probability that its weight is between 140 and 160 grams?"
   ]
  },
  {
   "cell_type": "code",
   "execution_count": 10,
   "metadata": {},
   "outputs": [
    {
     "name": "stdout",
     "output_type": "stream",
     "text": [
      "The probability is: 0.6827\n"
     ]
    }
   ],
   "source": [
    "import scipy.stats as stats\n",
    "\n",
    "mean = 150\n",
    "std_dev = 10\n",
    "lower_bound = 140\n",
    "upper_bound = 160\n",
    "\n",
    "z_lower = (lower_bound - mean) / std_dev\n",
    "z_upper = (upper_bound - mean) / std_dev\n",
    "\n",
    "probability = stats.norm.cdf(z_upper) - stats.norm.cdf(z_lower)\n",
    "\n",
    "print(f\"The probability is: {probability:.4f}\")"
   ]
  },
  {
   "cell_type": "markdown",
   "metadata": {},
   "source": [
    "**Challenge 6**"
   ]
  },
  {
   "cell_type": "markdown",
   "metadata": {},
   "source": [
    "If the lifetime (in hours) of a certain electronic component follows an exponential distribution with a mean lifetime of 50 hours, what is the probability that the component fails within the first 30 hours?"
   ]
  },
  {
   "cell_type": "code",
   "execution_count": 11,
   "metadata": {},
   "outputs": [
    {
     "name": "stdout",
     "output_type": "stream",
     "text": [
      "The probability is: 0.4512\n"
     ]
    }
   ],
   "source": [
    "import math\n",
    "\n",
    "mean_lifetime = 50\n",
    "lambda_val = 1 / mean_lifetime\n",
    "time = 30\n",
    "\n",
    "probability = 1 - math.exp(-lambda_val * time)\n",
    "\n",
    "print(f\"The probability is: {probability:.4f}\")"
   ]
  }
 ],
 "metadata": {
  "kernelspec": {
   "display_name": "Python 3",
   "language": "python",
   "name": "python3"
  },
  "language_info": {
   "codemirror_mode": {
    "name": "ipython",
    "version": 3
   },
   "file_extension": ".py",
   "mimetype": "text/x-python",
   "name": "python",
   "nbconvert_exporter": "python",
   "pygments_lexer": "ipython3",
   "version": "3.13.0"
  }
 },
 "nbformat": 4,
 "nbformat_minor": 2
}
